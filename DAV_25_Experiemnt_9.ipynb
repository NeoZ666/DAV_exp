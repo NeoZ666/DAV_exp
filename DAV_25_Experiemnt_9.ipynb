{
  "nbformat": 4,
  "nbformat_minor": 0,
  "metadata": {
    "colab": {
      "provenance": [],
      "authorship_tag": "ABX9TyMOnLOXw3Iluh+QUvq1HsP2",
      "include_colab_link": true
    },
    "kernelspec": {
      "name": "python3",
      "display_name": "Python 3"
    },
    "language_info": {
      "name": "python"
    }
  },
  "cells": [
    {
      "cell_type": "markdown",
      "metadata": {
        "id": "view-in-github",
        "colab_type": "text"
      },
      "source": [
        "<a href=\"https://colab.research.google.com/github/Arpit0000000/Data-Analytics-and-Visualization-Lab/blob/main/DAV_9_Experiemnt_9.ipynb\" target=\"_parent\"><img src=\"https://colab.research.google.com/assets/colab-badge.svg\" alt=\"Open In Colab\"/></a>"
      ]
    },
    {
      "cell_type": "markdown",
      "source": [
        "## **Experiment No. 9 -Create a World Map with d3.js**"
      ],
      "metadata": {
        "id": "GW-PQBm8WbyC"
      }
    },
    {
      "cell_type": "markdown",
      "source": [
        "### **The 3 concepts that are key to understanding map creation using D3 are:**\n",
        "\n",
        "\n",
        "*  GeoJSON (a JSON-based format for specifying geographic data)\n",
        "*  projections (functions that convert from latitude/longitude co-ordinates to x & y co-ordinates)\n",
        "*   geographic path generators (functions that convert GeoJSON shapes into SVG or Canvas paths)\n",
        "\n",
        "\n",
        "\n",
        "\n"
      ],
      "metadata": {
        "id": "kuULp4jtWtUI"
      }
    },
    {
      "cell_type": "markdown",
      "source": [
        "**1.GeoJSON** is a standard for representing geographic data using the JSON format and the full specification is at geojson.org.\n",
        "\n",
        "**2.projection** function takes a longitude and latitude co-ordinate (in the form of an array [lon, lat]) and transforms it into an x and y co-ordinate:\n",
        "\n",
        "**3.geographic** path generator is a function that takes a GeoJSON object and converts it into an SVG path string. (In fact, it's just another type of shape generator.)"
      ],
      "metadata": {
        "id": "uKcLWEtjbjpm"
      }
    },
    {
      "cell_type": "code",
      "execution_count": 26,
      "metadata": {
        "colab": {
          "base_uri": "https://localhost:8080/",
          "height": 422
        },
        "id": "3w1VigkVWa8_",
        "outputId": "62e0338a-c451-4d3d-b845-c95b8f7a3c25"
      },
      "outputs": [
        {
          "output_type": "display_data",
          "data": {
            "text/plain": [
              "<IPython.core.display.HTML object>"
            ],
            "text/html": [
              "<!DOCTYPE html>\n",
              "<html lang=\"en\">\n",
              "<head>\n",
              "  <meta charset=\"UTF-8\">\n",
              "  <meta name=\"viewport\" content=\"width=device-width, initial-scale=1.0\">\n",
              "  <title>Rotating Globe</title>\n",
              "  <script src=\"https://d3js.org/d3.v7.min.js\"></script>\n",
              "  <style>\n",
              "    body {\n",
              "      font-family: \"Helvetica Neue\", Helvetica, sans-serif;\n",
              "      font-size: 14px;\n",
              "      color: #333;\n",
              "    }\n",
              "  </style>\n",
              "</head>\n",
              "<body>\n",
              "  <div id=\"content\">\n",
              "    <canvas id=\"globe\" width=\"800\" height=\"400\"></canvas>\n",
              "  </div>\n",
              "  \n",
              "  <script>\n",
              "    let geojson = {};\n",
              "\n",
              "    let context = document.getElementById('globe').getContext('2d');\n",
              "\n",
              "    let projection = d3.geoOrthographic()\n",
              "      .scale(200)\n",
              "      .translate([400, 200]);\n",
              "\n",
              "    let geoGenerator = d3.geoPath()\n",
              "      .projection(projection)\n",
              "      .pointRadius(4)\n",
              "      .context(context);\n",
              "\n",
              "    let yaw = 300;\n",
              "\n",
              "    function update() {\n",
              "      projection.rotate([yaw, -45]);\n",
              "\n",
              "      context.clearRect(0, 0, 800, 400);\n",
              "\n",
              "      context.lineWidth = 0.5;\n",
              "      context.strokeStyle = '#333';\n",
              "\n",
              "      context.beginPath();\n",
              "      geoGenerator({type: 'FeatureCollection', features: geojson.features});\n",
              "      context.stroke();\n",
              "\n",
              "      // Graticule\n",
              "      let graticule = d3.geoGraticule();\n",
              "      context.beginPath();\n",
              "      context.strokeStyle = '#ccc';\n",
              "      geoGenerator(graticule());\n",
              "      context.stroke();\n",
              "\n",
              "      yaw -= 0.2;\n",
              "    }\n",
              "\n",
              "    // REQUEST DATA\n",
              "    d3.json('https://gist.githubusercontent.com/d3indepth/f28e1c3a99ea6d84986f35ac8646fac7/raw/c58cede8dab4673c91a3db702d50f7447b373d98/ne_110m_land.json')\n",
              "      .then(function(json) {\n",
              "        geojson = json;\n",
              "        window.setInterval(update, 100);\n",
              "      });\n",
              "  </script>\n",
              "</body>\n",
              "</html>\n"
            ]
          },
          "metadata": {}
        }
      ],
      "source": [
        "%%html\n",
        "<!DOCTYPE html>\n",
        "<html lang=\"en\">\n",
        "<head>\n",
        "  <meta charset=\"UTF-8\">\n",
        "  <meta name=\"viewport\" content=\"width=device-width, initial-scale=1.0\">\n",
        "  <title>Rotating Globe</title>\n",
        "  <script src=\"https://d3js.org/d3.v7.min.js\"></script>\n",
        "  <style>\n",
        "    body {\n",
        "      font-family: \"Helvetica Neue\", Helvetica, sans-serif;\n",
        "      font-size: 14px;\n",
        "      color: #333;\n",
        "    }\n",
        "  </style>\n",
        "</head>\n",
        "<body>\n",
        "  <div id=\"content\">\n",
        "    <canvas id=\"globe\" width=\"800\" height=\"400\"></canvas>\n",
        "  </div>\n",
        "\n",
        "  <script>\n",
        "    let geojson = {};\n",
        "\n",
        "    let context = document.getElementById('globe').getContext('2d');\n",
        "\n",
        "    let projection = d3.geoOrthographic()\n",
        "      .scale(200)\n",
        "      .translate([400, 200]);\n",
        "\n",
        "    let geoGenerator = d3.geoPath()\n",
        "      .projection(projection)\n",
        "      .pointRadius(4)\n",
        "      .context(context);\n",
        "\n",
        "    let yaw = 300;\n",
        "\n",
        "    function update() {\n",
        "      projection.rotate([yaw, -45]);\n",
        "\n",
        "      context.clearRect(0, 0, 800, 400);\n",
        "\n",
        "      context.lineWidth = 0.5;\n",
        "      context.strokeStyle = '#333';\n",
        "\n",
        "      context.beginPath();\n",
        "      geoGenerator({type: 'FeatureCollection', features: geojson.features});\n",
        "      context.stroke();\n",
        "\n",
        "      // Graticule\n",
        "      let graticule = d3.geoGraticule();\n",
        "      context.beginPath();\n",
        "      context.strokeStyle = '#ccc';\n",
        "      geoGenerator(graticule());\n",
        "      context.stroke();\n",
        "\n",
        "      yaw -= 0.2;\n",
        "    }\n",
        "\n",
        "    // REQUEST DATA\n",
        "    d3.json('https://gist.githubusercontent.com/d3indepth/f28e1c3a99ea6d84986f35ac8646fac7/raw/c58cede8dab4673c91a3db702d50f7447b373d98/ne_110m_land.json')\n",
        "      .then(function(json) {\n",
        "        geojson = json;\n",
        "        window.setInterval(update, 100);\n",
        "      });\n",
        "  </script>\n",
        "</body>\n",
        "</html>\n"
      ]
    }
  ]
}