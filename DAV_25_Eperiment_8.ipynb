{
  "nbformat": 4,
  "nbformat_minor": 0,
  "metadata": {
    "colab": {
      "provenance": [],
      "authorship_tag": "ABX9TyOo7L+t4hy3VlMhtNT1m5lC",
      "include_colab_link": true
    },
    "kernelspec": {
      "name": "python3",
      "display_name": "Python 3"
    },
    "language_info": {
      "name": "python"
    }
  },
  "cells": [
    {
      "cell_type": "markdown",
      "metadata": {
        "id": "view-in-github",
        "colab_type": "text"
      },
      "source": [
        "<a href=\"https://colab.research.google.com/github/Arpit0000000/Data-Analytics-and-Visualization-Lab/blob/main/DAV_9_Eperiment_8.ipynb\" target=\"_parent\"><img src=\"https://colab.research.google.com/assets/colab-badge.svg\" alt=\"Open In Colab\"/></a>"
      ]
    },
    {
      "cell_type": "markdown",
      "source": [
        "# Set Up a D3.js Environment, Select Elements in D3, Modify Elements in D3,Data Loading in D3"
      ],
      "metadata": {
        "id": "ZWMUjIzBMwjt"
      }
    },
    {
      "cell_type": "markdown",
      "source": [
        "### **Select Elements in D3**"
      ],
      "metadata": {
        "id": "oebWHt9dNKgg"
      }
    },
    {
      "cell_type": "markdown",
      "source": [
        "\n",
        "\n",
        "*   **select()** **−** Selects only one DOM element by matching the given CSS selector. If there are more than one elements for the given CSS selector, it selects the first one only.\n",
        "*   **selectAll()** **−** Selects all DOM elements by matching the given CSS selector. If you are familiar with selecting elements with jQuery, D3.js selectors are almost the same.\n",
        "\n",
        "\n",
        "\n"
      ],
      "metadata": {
        "id": "XEq0Lc7UMyV5"
      }
    },
    {
      "cell_type": "code",
      "execution_count": 34,
      "metadata": {
        "colab": {
          "base_uri": "https://localhost:8080/",
          "height": 34
        },
        "id": "55askMJJLUMc",
        "outputId": "73b8517d-7baf-490f-8a76-004aa32dd1ac"
      },
      "outputs": [
        {
          "output_type": "display_data",
          "data": {
            "text/plain": [
              "<IPython.core.display.HTML object>"
            ],
            "text/html": [
              "<!--Selection by Tag-->\n",
              "<!DOCTYPE html>\n",
              "<html>\n",
              "   <head>\n",
              "      <script type = \"text/javascript\" src = \"https://d3js.org/d3.v4.min.js\"></script>\n",
              "   </head>\n",
              "\n",
              "   <body>\n",
              "      <div>\n",
              "         Hello World! -- Selection by tag\n",
              "      </div>\n",
              "\n",
              "      <script>\n",
              "         d3.select(\"div\").text();\n",
              "      </script>\n",
              "   </body>\n",
              "</html>\n"
            ]
          },
          "metadata": {}
        }
      ],
      "source": [
        "%%html\n",
        "<!--Selection by Tag-->\n",
        "<!DOCTYPE html>\n",
        "<html>\n",
        "   <head>\n",
        "      <script type = \"text/javascript\" src = \"https://d3js.org/d3.v4.min.js\"></script>\n",
        "   </head>\n",
        "\n",
        "   <body>\n",
        "      <div>\n",
        "         Hello World! -- Selection by tag\n",
        "      </div>\n",
        "\n",
        "      <script>\n",
        "         d3.select(\"div\").text();\n",
        "      </script>\n",
        "   </body>\n",
        "</html>"
      ]
    },
    {
      "cell_type": "code",
      "source": [
        "%%html\n",
        "<!--Selection by class name-->\n",
        "<!DOCTYPE html>\n",
        "<html>\n",
        "  <head>\n",
        "    <script type = \"text/javascript\" src = \"https://d3js.org/d3.v4.min.js\"></script>\n",
        "  </head>\n",
        "\n",
        "  <body>\n",
        "      <div class = \"name\">\n",
        "         Hello my name is Arpit. -- Selection by class\n",
        "      </div>\n",
        "\n",
        "      <script>\n",
        "         d3.select(\".name\").text();\n",
        "      </script>\n",
        "   </body>\n",
        "</html>"
      ],
      "metadata": {
        "colab": {
          "base_uri": "https://localhost:8080/",
          "height": 34
        },
        "id": "g_1eEFxvMJ9x",
        "outputId": "d86fb5cc-7c0c-4330-955d-59e11fc10975"
      },
      "execution_count": 35,
      "outputs": [
        {
          "output_type": "display_data",
          "data": {
            "text/plain": [
              "<IPython.core.display.HTML object>"
            ],
            "text/html": [
              "<!--Selection by class name-->\n",
              "<!DOCTYPE html>\n",
              "<html>\n",
              "  <head>\n",
              "    <script type = \"text/javascript\" src = \"https://d3js.org/d3.v4.min.js\"></script>\n",
              "  </head>\n",
              "\n",
              "  <body>\n",
              "      <div class = \"name\">\n",
              "         Hello my name is Arpit. -- Selection by class\n",
              "      </div>\n",
              "\n",
              "      <script>\n",
              "         d3.select(\".name\").text();\n",
              "      </script>\n",
              "   </body>\n",
              "</html>\n"
            ]
          },
          "metadata": {}
        }
      ]
    },
    {
      "cell_type": "code",
      "source": [
        "%%html\n",
        "<!--Selection by ID-->\n",
        "<!DOCTYPE html>\n",
        "<html>\n",
        "  <head>\n",
        "    <script type = \"text/javascript\" src = \"https://d3js.org/d3.v4.min.js\"></script>\n",
        "  </head>\n",
        "\n",
        "  <body>\n",
        "      <div id = \"Hey\">\n",
        "         “Always go with your passions. Never ask yourself if it’s realistic or not.”\n",
        "      </div>\n",
        "\n",
        "      <script>\n",
        "        d3.select(\"#Hey\").text();\n",
        "      </script>\n",
        "   </body>\n",
        "</html>"
      ],
      "metadata": {
        "colab": {
          "base_uri": "https://localhost:8080/",
          "height": 34
        },
        "id": "OvNcM6BCMJ36",
        "outputId": "9bc68d11-0bc6-4dfc-9d53-10823644615e"
      },
      "execution_count": 36,
      "outputs": [
        {
          "output_type": "display_data",
          "data": {
            "text/plain": [
              "<IPython.core.display.HTML object>"
            ],
            "text/html": [
              "<!--Selection by ID-->\n",
              "<!DOCTYPE html>\n",
              "<html>\n",
              "  <head>\n",
              "    <script type = \"text/javascript\" src = \"https://d3js.org/d3.v4.min.js\"></script>\n",
              "  </head>\n",
              "\n",
              "  <body>\n",
              "      <div id = \"Hey\">\n",
              "         “Always go with your passions. Never ask yourself if it’s realistic or not.”\n",
              "      </div>\n",
              "\n",
              "      <script>\n",
              "        d3.select(\"#Hey\").text();\n",
              "      </script>\n",
              "   </body>\n",
              "</html>\n"
            ]
          },
          "metadata": {}
        }
      ]
    },
    {
      "cell_type": "code",
      "source": [
        "%%html\n",
        "<!DOCTYPE html>\n",
        "<html>\n",
        "   <head>\n",
        "      <script type = \"text/javascript\" src = \"https://d3js.org/d3.v4.min.js\"></script>\n",
        "   </head>\n",
        "\n",
        "   <body>\n",
        "      <h2 class = \"class\">Hello Arpit !! </h2>\n",
        "      <div class = \"class\"> Hello Pikachu !! </div>\n",
        "\n",
        "      <script>\n",
        "         d3.selectAll(\".class\").attr(\"style\", \"color: purple\");\n",
        "      </script>\n",
        "   </body>\n",
        "</html>"
      ],
      "metadata": {
        "colab": {
          "base_uri": "https://localhost:8080/",
          "height": 82
        },
        "id": "hJzwHvoXO-qH",
        "outputId": "a2e610bb-fa7d-414d-cc5e-d64841f66c96"
      },
      "execution_count": 37,
      "outputs": [
        {
          "output_type": "display_data",
          "data": {
            "text/plain": [
              "<IPython.core.display.HTML object>"
            ],
            "text/html": [
              "<!DOCTYPE html>\n",
              "<html>\n",
              "   <head>\n",
              "      <script type = \"text/javascript\" src = \"https://d3js.org/d3.v4.min.js\"></script>\n",
              "   </head>\n",
              "\n",
              "   <body>\n",
              "      <h2 class = \"class\">Hello Arpit !! </h2>\n",
              "      <div class = \"class\"> Hello Pikachu !! </div>\n",
              "\n",
              "      <script>\n",
              "         d3.selectAll(\".class\").attr(\"style\", \"color: purple\");\n",
              "      </script>\n",
              "   </body>\n",
              "</html>\n"
            ]
          },
          "metadata": {}
        }
      ]
    },
    {
      "cell_type": "markdown",
      "source": [
        "### **Modify Elements in D3**\n",
        "D3.js provides various methods, html(), attr() and style() to modify the content and style of the selected elements."
      ],
      "metadata": {
        "id": "XInSslmUOUDq"
      }
    },
    {
      "cell_type": "code",
      "source": [
        "# Modify elements using html()\n",
        "%%html\n",
        "<!DOCTYPE html>\n",
        "<html>\n",
        "   <head>\n",
        "      <script type = \"text/javascript\" src = \"https://d3js.org/d3.v4.min.js\"></script>\n",
        "   </head>\n",
        "\n",
        "   <body>\n",
        "      <div class = \"class\">\n",
        "         Hello World!\n",
        "      </div>\n",
        "\n",
        "      <script>\n",
        "         d3.select(\".class\").html(\"Hello World! <span>from Arpit.js</span>\");\n",
        "      </script>\n",
        "   </body>\n",
        "</html>"
      ],
      "metadata": {
        "colab": {
          "base_uri": "https://localhost:8080/",
          "height": 34
        },
        "id": "mrGAGCdiMJ0Y",
        "outputId": "55c1fe42-76b1-4b16-c324-d78c2622894b"
      },
      "execution_count": 38,
      "outputs": [
        {
          "output_type": "display_data",
          "data": {
            "text/plain": [
              "<IPython.core.display.HTML object>"
            ],
            "text/html": [
              "<!DOCTYPE html>\n",
              "<html>\n",
              "   <head>\n",
              "      <script type = \"text/javascript\" src = \"https://d3js.org/d3.v4.min.js\"></script>\n",
              "   </head>\n",
              "\n",
              "   <body>\n",
              "      <div class = \"class\">\n",
              "         Hello World!\n",
              "      </div>\n",
              "\n",
              "      <script>\n",
              "         d3.select(\".class\").html(\"Hello World! <span>from Arpit.js</span>\");\n",
              "      </script>\n",
              "   </body>\n",
              "</html>\n"
            ]
          },
          "metadata": {}
        }
      ]
    },
    {
      "cell_type": "code",
      "source": [
        "# Modify elements using attr()\n",
        "%%html\n",
        "<!DOCTYPE html>\n",
        "<html>\n",
        "   <head>\n",
        "      <script type = \"text/javascript\" src = \"https://d3js.org/d3.v4.min.js\"></script>\n",
        "   </head>\n",
        "\n",
        "   <body>\n",
        "      <div class = \"myclass\">\n",
        "         “Always do your best. What you plant now, you will harvest later.” --Og Mandino\n",
        "      </div>\n",
        "\n",
        "      <script>\n",
        "         d3.select(\".myclass\").attr(\"style\", \"color: purple\");\n",
        "      </script>\n",
        "   </body>\n",
        "</html>"
      ],
      "metadata": {
        "colab": {
          "base_uri": "https://localhost:8080/",
          "height": 34
        },
        "id": "SkUdWKENMJxh",
        "outputId": "61cab6d2-8b60-47a8-838f-78682aab0cea"
      },
      "execution_count": 39,
      "outputs": [
        {
          "output_type": "display_data",
          "data": {
            "text/plain": [
              "<IPython.core.display.HTML object>"
            ],
            "text/html": [
              "<!DOCTYPE html>\n",
              "<html>\n",
              "   <head>\n",
              "      <script type = \"text/javascript\" src = \"https://d3js.org/d3.v4.min.js\"></script>\n",
              "   </head>\n",
              "\n",
              "   <body>\n",
              "      <div class = \"myclass\">\n",
              "         “Always do your best. What you plant now, you will harvest later.” --Og Mandino\n",
              "      </div>\n",
              "\n",
              "      <script>\n",
              "         d3.select(\".myclass\").attr(\"style\", \"color: purple\");\n",
              "      </script>\n",
              "   </body>\n",
              "</html>\n"
            ]
          },
          "metadata": {}
        }
      ]
    },
    {
      "cell_type": "code",
      "source": [
        "# Modify elements using style()\n",
        "%%html\n",
        "<!DOCTYPE html>\n",
        "<html>\n",
        "   <head>\n",
        "      <script type = \"text/javascript\" src = \"https://d3js.org/d3.v4.min.js\"></script>\n",
        "   </head>\n",
        "\n",
        "   <body>\n",
        "      <div class = \"myclass\">\n",
        "        Stay hungry, stay foolish.\n",
        "      </div>\n",
        "\n",
        "      <script>\n",
        "         d3.select(\".myclass\").style(\"color\", \"grey\");\n",
        "      </script>\n",
        "   </body>\n",
        "</html>"
      ],
      "metadata": {
        "colab": {
          "base_uri": "https://localhost:8080/",
          "height": 34
        },
        "id": "7_s5oxeUMJs5",
        "outputId": "02c9ec28-8aac-4032-9251-ccfb92403821"
      },
      "execution_count": 40,
      "outputs": [
        {
          "output_type": "display_data",
          "data": {
            "text/plain": [
              "<IPython.core.display.HTML object>"
            ],
            "text/html": [
              "<!DOCTYPE html>\n",
              "<html>\n",
              "   <head>\n",
              "      <script type = \"text/javascript\" src = \"https://d3js.org/d3.v4.min.js\"></script>\n",
              "   </head>\n",
              "\n",
              "   <body>\n",
              "      <div class = \"myclass\">\n",
              "        Stay hungry, stay foolish.\n",
              "      </div>\n",
              "\n",
              "      <script>\n",
              "         d3.select(\".myclass\").style(\"color\", \"grey\");\n",
              "      </script>\n",
              "   </body>\n",
              "</html>\n"
            ]
          },
          "metadata": {}
        }
      ]
    },
    {
      "cell_type": "code",
      "source": [
        "%%html\n",
        "<!DOCTYPE html>\n",
        "<html lang=\"en\">\n",
        "<head>\n",
        "  <meta charset=\"UTF-8\">\n",
        "  <meta name=\"viewport\" content=\"width=device-width, initial-scale=1.0\">\n",
        "  <title>D3.js Bar Chart</title>\n",
        "  <script src=\"https://d3js.org/d3.v5.min.js\"></script>\n",
        "</head>\n",
        "<body>\n",
        "<h2>Data Loading in D3</h2>\n",
        "<div id=\"chart-container\"></div>\n",
        "\n",
        "<script>\n",
        "const data = [\n",
        "  { category: \"A\", value: 100 },\n",
        "  { category: \"B\", value: 200 },\n",
        "  { category: \"C\", value: 180 },\n",
        "  { category: \"D\", value: 90 },\n",
        "  { category: \"E\", value: 150 },\n",
        "];\n",
        "\n",
        "const svgWidth = 400;\n",
        "const svgHeight = 300;\n",
        "const barWidth = svgWidth / data.length;\n",
        "\n",
        "const svg = d3.select(\"#chart-container\")\n",
        "  .append(\"svg\")\n",
        "  .attr(\"width\", svgWidth)\n",
        "  .attr(\"height\", svgHeight);\n",
        "\n",
        "svg.selectAll(\"rect\")\n",
        "  .data(data)\n",
        "  .enter().append(\"rect\")\n",
        "  .attr(\"x\", (d, i) => i * barWidth)\n",
        "  .attr(\"y\", d => svgHeight - d.value)\n",
        "  .attr(\"width\", barWidth - 5)\n",
        "  .attr(\"height\", d => d.value)\n",
        "  .attr(\"fill\", \"purple\");\n",
        "</script>\n",
        "\n",
        "</body>\n",
        "</html>\n"
      ],
      "metadata": {
        "colab": {
          "base_uri": "https://localhost:8080/",
          "height": 369
        },
        "id": "sbBvphdKR0CM",
        "outputId": "f7d9cafe-525e-4e89-c526-a2f44752757a"
      },
      "execution_count": 42,
      "outputs": [
        {
          "output_type": "display_data",
          "data": {
            "text/plain": [
              "<IPython.core.display.HTML object>"
            ],
            "text/html": [
              "<!DOCTYPE html>\n",
              "<html lang=\"en\">\n",
              "<head>\n",
              "  <meta charset=\"UTF-8\">\n",
              "  <meta name=\"viewport\" content=\"width=device-width, initial-scale=1.0\">\n",
              "  <title>D3.js Bar Chart</title>\n",
              "  <script src=\"https://d3js.org/d3.v5.min.js\"></script>\n",
              "</head>\n",
              "<body>\n",
              "<h2>Data Loading in D3</h2>\n",
              "<div id=\"chart-container\"></div>\n",
              "\n",
              "<script>\n",
              "const data = [\n",
              "  { category: \"A\", value: 100 },\n",
              "  { category: \"B\", value: 200 },\n",
              "  { category: \"C\", value: 180 },\n",
              "  { category: \"D\", value: 90 },\n",
              "  { category: \"E\", value: 150 },\n",
              "];\n",
              "\n",
              "const svgWidth = 400;\n",
              "const svgHeight = 300;\n",
              "const barWidth = svgWidth / data.length;\n",
              "\n",
              "const svg = d3.select(\"#chart-container\")\n",
              "  .append(\"svg\")\n",
              "  .attr(\"width\", svgWidth)\n",
              "  .attr(\"height\", svgHeight);\n",
              "\n",
              "svg.selectAll(\"rect\")\n",
              "  .data(data)\n",
              "  .enter().append(\"rect\")\n",
              "  .attr(\"x\", (d, i) => i * barWidth)\n",
              "  .attr(\"y\", d => svgHeight - d.value)\n",
              "  .attr(\"width\", barWidth - 5)\n",
              "  .attr(\"height\", d => d.value)\n",
              "  .attr(\"fill\", \"purple\");\n",
              "</script>\n",
              "\n",
              "</body>\n",
              "</html>\n"
            ]
          },
          "metadata": {}
        }
      ]
    }
  ]
}