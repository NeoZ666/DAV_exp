{
  "nbformat": 4,
  "nbformat_minor": 0,
  "metadata": {
    "colab": {
      "provenance": [],
      "authorship_tag": "ABX9TyOgH/Jj8Cu3PZER2qja9rfi",
      "include_colab_link": true
    },
    "kernelspec": {
      "name": "python3",
      "display_name": "Python 3"
    },
    "language_info": {
      "name": "python"
    }
  },
  "cells": [
    {
      "cell_type": "markdown",
      "metadata": {
        "id": "view-in-github",
        "colab_type": "text"
      },
      "source": [
        "<a href=\"https://colab.research.google.com/github/Arpit0000000/Data-Analytics-and-Visualization-Lab/blob/main/DAV_9_Experiment_10.ipynb\" target=\"_parent\"><img src=\"https://colab.research.google.com/assets/colab-badge.svg\" alt=\"Open In Colab\"/></a>"
      ]
    },
    {
      "cell_type": "markdown",
      "source": [
        "# Experiment No. 10 :- Event handling in D3"
      ],
      "metadata": {
        "id": "_VzEtIZdkkmp"
      }
    },
    {
      "cell_type": "markdown",
      "source": [
        "**Syntax -->**\n",
        "d3.selection.on(type,[listener,[capture]]);\n",
        "\n",
        "Event types and their descriptions :-\n",
        "1. **zoom** - selection is being panned and zoomed\n",
        "2. **click** - selection got clicked\n",
        "3. **mouseover** -\tmouse pointer moves over a selection\n",
        "4. **mouseout** - mouse pointer leaves a slection"
      ],
      "metadata": {
        "id": "PKiqsA4_AgQ1"
      }
    },
    {
      "cell_type": "code",
      "source": [
        "%%html\n",
        "<!DOCTYPE html>\n",
        "<html lang=\"en\">\n",
        "<head>\n",
        "<meta charset=\"UTF-8\">\n",
        "<meta name=\"viewport\" content=\"width=device-width, initial-scale=1.0\">\n",
        "<title>D3 Visualization with Event Handling</title>\n",
        "<script src=\"https://d3js.org/d3.v7.min.js\"></script>\n",
        "<style>\n",
        "  rect {\n",
        "    stroke: #333;\n",
        "  }\n",
        "</style>\n",
        "</head>\n",
        "<body>\n",
        "<script>\n",
        "  // Sample data\n",
        "  var data = [100, 150, 75, 130, 95];\n",
        "\n",
        "  // Set up SVG dimensions\n",
        "  var width = 400,\n",
        "      height = 200;\n",
        "\n",
        "  // Create SVG element\n",
        "  var svg = d3.select(\"body\")\n",
        "              .append(\"svg\")\n",
        "              .attr(\"width\", width)\n",
        "              .attr(\"height\", height);\n",
        "\n",
        "  // Create rectangles for each data point\n",
        "  var rects = svg.selectAll(\"rect\")\n",
        "                 .data(data)\n",
        "                 .enter()\n",
        "                 .append(\"rect\")\n",
        "                 .attr(\"x\", function(d, i) { return i * (width / data.length); })\n",
        "                 .attr(\"y\", function(d) { return height - d; })\n",
        "                 .attr(\"width\", width / data.length - 2)\n",
        "                 .attr(\"height\", function(d) { return d; })\n",
        "                 .attr(\"fill\", \"purple\");\n",
        "\n",
        "  // Add event listeners to rectangles\n",
        "  rects.on(\"mouseover\", function(d) {\n",
        "          d3.select(this)\n",
        "            .attr(\"fill\", \"black\");\n",
        "        })\n",
        "        .on(\"mouseout\", function(d) {\n",
        "          d3.select(this)\n",
        "            .attr(\"fill\", \"purple\");\n",
        "        })\n",
        "        .on(\"click\", function(d) {\n",
        "          d3.select(this)\n",
        "            .attr(\"fill\", \"red\");\n",
        "        });\n",
        "</script>\n",
        "</body>\n",
        "</html>\n"
      ],
      "metadata": {
        "colab": {
          "base_uri": "https://localhost:8080/",
          "height": 222
        },
        "id": "GJVEgOqg96Gf",
        "outputId": "f4d8cd75-5fd5-4aa3-fc24-2b8aab93e8f0"
      },
      "execution_count": 26,
      "outputs": [
        {
          "output_type": "display_data",
          "data": {
            "text/plain": [
              "<IPython.core.display.HTML object>"
            ],
            "text/html": [
              "<!DOCTYPE html>\n",
              "<html lang=\"en\">\n",
              "<head>\n",
              "<meta charset=\"UTF-8\">\n",
              "<meta name=\"viewport\" content=\"width=device-width, initial-scale=1.0\">\n",
              "<title>D3 Visualization with Event Handling</title>\n",
              "<script src=\"https://d3js.org/d3.v7.min.js\"></script>\n",
              "<style>\n",
              "  rect {\n",
              "    stroke: #333;\n",
              "  }\n",
              "</style>\n",
              "</head>\n",
              "<body>\n",
              "<script>\n",
              "  // Sample data\n",
              "  var data = [100, 150, 75, 130, 95];\n",
              "\n",
              "  // Set up SVG dimensions\n",
              "  var width = 400,\n",
              "      height = 200;\n",
              "\n",
              "  // Create SVG element\n",
              "  var svg = d3.select(\"body\")\n",
              "              .append(\"svg\")\n",
              "              .attr(\"width\", width)\n",
              "              .attr(\"height\", height);\n",
              "\n",
              "  // Create rectangles for each data point\n",
              "  var rects = svg.selectAll(\"rect\")\n",
              "                 .data(data)\n",
              "                 .enter()\n",
              "                 .append(\"rect\")\n",
              "                 .attr(\"x\", function(d, i) { return i * (width / data.length); })\n",
              "                 .attr(\"y\", function(d) { return height - d; })\n",
              "                 .attr(\"width\", width / data.length - 2)\n",
              "                 .attr(\"height\", function(d) { return d; })\n",
              "                 .attr(\"fill\", \"purple\");\n",
              "\n",
              "  // Add event listeners to rectangles\n",
              "  rects.on(\"mouseover\", function(d) {\n",
              "          d3.select(this)\n",
              "            .attr(\"fill\", \"black\");\n",
              "        })\n",
              "        .on(\"mouseout\", function(d) {\n",
              "          d3.select(this)\n",
              "            .attr(\"fill\", \"purple\");\n",
              "        })\n",
              "        .on(\"click\", function(d) {\n",
              "          d3.select(this)\n",
              "            .attr(\"fill\", \"red\");\n",
              "        });\n",
              "</script>\n",
              "</body>\n",
              "</html>\n"
            ]
          },
          "metadata": {}
        }
      ]
    }
  ]
}